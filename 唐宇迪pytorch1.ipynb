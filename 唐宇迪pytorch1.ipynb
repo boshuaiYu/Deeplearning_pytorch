{
  "nbformat": 4,
  "nbformat_minor": 0,
  "metadata": {
    "colab": {
      "provenance": [],
      "authorship_tag": "ABX9TyP93GdYIp+gdADXkk7lXXux",
      "include_colab_link": true
    },
    "kernelspec": {
      "name": "python3",
      "display_name": "Python 3"
    },
    "language_info": {
      "name": "python"
    },
    "gpuClass": "standard"
  },
  "cells": [
    {
      "cell_type": "markdown",
      "metadata": {
        "id": "view-in-github",
        "colab_type": "text"
      },
      "source": [
        "<a href=\"https://colab.research.google.com/github/boshuaiYu/Deeplearning_pytorch/blob/main/%E5%94%90%E5%AE%87%E8%BF%AApytorch1.ipynb\" target=\"_parent\"><img src=\"https://colab.research.google.com/assets/colab-badge.svg\" alt=\"Open In Colab\"/></a>"
      ]
    },
    {
      "cell_type": "code",
      "execution_count": null,
      "metadata": {
        "colab": {
          "base_uri": "https://localhost:8080/"
        },
        "id": "bgoQHAlw0US1",
        "outputId": "6aa1c2ca-f3b7-4e9d-818b-4ccea2815e65"
      },
      "outputs": [
        {
          "output_type": "stream",
          "name": "stdout",
          "text": [
            "1.12.1+cu113\n"
          ]
        }
      ],
      "source": [
        "import torch\n",
        "import numpy as np\n",
        "import matplotlib.pyplot as plt\n",
        "import sklearn\n",
        "import pandas as pd\n",
        "%matplotlib inline\n",
        "print(torch.__version__)"
      ]
    },
    {
      "cell_type": "markdown",
      "source": [
        "view可以改变矩阵维度\n",
        "\n",
        "view和reshape区别参考：https://blog.csdn.net/Flag_ing/article/details/109129752"
      ],
      "metadata": {
        "id": "GUbCW82q1yCb"
      }
    },
    {
      "cell_type": "markdown",
      "source": [
        "1.1 线性回归demo"
      ],
      "metadata": {
        "id": "Kcez6yXJAS5v"
      }
    },
    {
      "cell_type": "code",
      "execution_count": 19,
      "metadata": {
        "id": "Cfr-PmvNCXde",
        "colab": {
          "base_uri": "https://localhost:8080/"
        },
        "outputId": "3d5c194f-78b0-4ad3-9e49-9ef3b227ecd6"
      },
      "outputs": [
        {
          "output_type": "execute_result",
          "data": {
            "text/plain": [
              "(torch.Size([1000, 2]), torch.Size([1000, 1]))"
            ]
          },
          "metadata": {},
          "execution_count": 19
        }
      ],
      "source": [
        "# 获取（创建）数据\n",
        "def synthetic_data(w, b, num_examples):\n",
        "  X = torch.normal(0, 1, (num_examples, len(w)))\n",
        "  y = torch.mv(X, w) + b\n",
        "  y += torch.normal(0,1,y.shape)\n",
        "  return X, y.reshape((-1,1))\n",
        "\n",
        "true_w = torch.tensor([2, -3.4])\n",
        "true_b = 4.2\n",
        "features, labels = synthetic_data(true_w, true_b, 1000)\n",
        "features.shape, labels.shape\n"
      ]
    },
    {
      "cell_type": "code",
      "source": [
        "plt.scatter(features[:, 1].detach().numpy(), labels.detach().numpy(), 1)"
      ],
      "metadata": {
        "colab": {
          "base_uri": "https://localhost:8080/",
          "height": 282
        },
        "id": "crOEswuLBFu-",
        "outputId": "c7bc8a31-77bb-4f5f-fd70-0619d0f55783"
      },
      "execution_count": 22,
      "outputs": [
        {
          "output_type": "execute_result",
          "data": {
            "text/plain": [
              "<matplotlib.collections.PathCollection at 0x7f6a24a85310>"
            ]
          },
          "metadata": {},
          "execution_count": 22
        },
        {
          "output_type": "display_data",
          "data": {
            "text/plain": [
              "<Figure size 432x288 with 1 Axes>"
            ],
            "image/png": "[encoded data removed]"
          },
          "metadata": {
            "needs_background": "light"
          }
        }
      ]
    },
    {
      "cell_type": "code",
      "source": [
        "import torch.nn as nn\n",
        "import torch.optim as op\n",
        "# 建模型\n",
        "\n",
        "model = nn.Sequential(\n",
        "    nn.Linear(2,1)\n",
        ")\n",
        "\n",
        "# 定义参数和损失函数\n",
        "epochs = 1000\n",
        "learning_rate = 0.01\n",
        "optimizer = op.SGD(model.parameters(), lr=learning_rate)\n",
        "loss = nn.MSELoss()\n",
        "\n",
        "# 模型训练\n",
        "\n",
        "for epoch in range(epochs):\n",
        "  epochs += 1\n",
        "  L = loss(model(features), labels)\n",
        "  optimizer.zero_grad()\n",
        "  L.backward()\n",
        "  optimizer.step()\n",
        "  if epoch % 50 ==0:\n",
        "    print('epoch {}, Loss {}'.format(epoch, L))\n",
        "\n",
        "torch.save(model.state_dict(), 'model.pkl')\n"
      ],
      "metadata": {
        "id": "MOanUQ94Bn4N",
        "colab": {
          "base_uri": "https://localhost:8080/"
        },
        "outputId": "e6702465-4775-4983-b859-bb8a833e8385"
      },
      "execution_count": 38,
      "outputs": [
        {
          "output_type": "stream",
          "name": "stdout",
          "text": [
            "epoch 0, Loss 31.493627548217773\n",
            "epoch 50, Loss 4.834190845489502\n",
            "epoch 100, Loss 1.4742454290390015\n",
            "epoch 150, Loss 1.0480912923812866\n",
            "epoch 200, Loss 0.9937321543693542\n",
            "epoch 250, Loss 0.9867633581161499\n",
            "epoch 300, Loss 0.9858658909797668\n",
            "epoch 350, Loss 0.9857499003410339\n",
            "epoch 400, Loss 0.9857348203659058\n",
            "epoch 450, Loss 0.985732913017273\n",
            "epoch 500, Loss 0.9857326745986938\n",
            "epoch 550, Loss 0.9857326149940491\n",
            "epoch 600, Loss 0.9857326745986938\n",
            "epoch 650, Loss 0.9857325553894043\n",
            "epoch 700, Loss 0.9857325553894043\n",
            "epoch 750, Loss 0.9857325553894043\n",
            "epoch 800, Loss 0.9857325553894043\n",
            "epoch 850, Loss 0.9857325553894043\n",
            "epoch 900, Loss 0.9857325553894043\n",
            "epoch 950, Loss 0.9857325553894043\n"
          ]
        }
      ]
    },
    {
      "cell_type": "code",
      "source": [
        "model.load_state_dict(torch.load('model.pkl'))"
      ],
      "metadata": {
        "colab": {
          "base_uri": "https://localhost:8080/"
        },
        "id": "pW7Q3mMtFglf",
        "outputId": "7a297888-2658-40de-fdd9-8eec31b4c284"
      },
      "execution_count": 34,
      "outputs": [
        {
          "output_type": "execute_result",
          "data": {
            "text/plain": [
              "<All keys matched successfully>"
            ]
          },
          "metadata": {},
          "execution_count": 34
        }
      ]
    },
    {
      "cell_type": "markdown",
      "source": [
        "hub模块（调用别人建好的模型）\n",
        "\n",
        "https://pytorch.org/hub/\n"
      ],
      "metadata": {
        "id": "cxA8G7vgLk3b"
      }
    },
    {
      "cell_type": "code",
      "source": [],
      "metadata": {
        "colab": {
          "base_uri": "https://localhost:8080/",
          "height": 556
        },
        "id": "FxEfD3VjInfx",
        "outputId": "e6feba3c-11b4-4337-f741-82eedcb09433"
      },
      "execution_count": 42,
      "outputs": [
        {
          "output_type": "error",
          "ename": "AttributeError",
          "evalue": "ignored",
          "traceback": [
            "\u001b[0;31m---------------------------------------------------------------------------\u001b[0m",
            "\u001b[0;31mAttributeError\u001b[0m                            Traceback (most recent call last)",
            "\u001b[0;32m<ipython-input-42-8fc84774da17>\u001b[0m in \u001b[0;36m<module>\u001b[0;34m\u001b[0m\n\u001b[1;32m      1\u001b[0m \u001b[0mplt\u001b[0m\u001b[0;34m.\u001b[0m\u001b[0mscatter\u001b[0m\u001b[0;34m(\u001b[0m\u001b[0mfeatures\u001b[0m\u001b[0;34m[\u001b[0m\u001b[0;34m:\u001b[0m\u001b[0;34m,\u001b[0m \u001b[0;36m1\u001b[0m\u001b[0;34m]\u001b[0m\u001b[0;34m.\u001b[0m\u001b[0mdetach\u001b[0m\u001b[0;34m(\u001b[0m\u001b[0;34m)\u001b[0m\u001b[0;34m.\u001b[0m\u001b[0mnumpy\u001b[0m\u001b[0;34m(\u001b[0m\u001b[0;34m)\u001b[0m\u001b[0;34m,\u001b[0m \u001b[0mlabels\u001b[0m\u001b[0;34m.\u001b[0m\u001b[0mdetach\u001b[0m\u001b[0;34m(\u001b[0m\u001b[0;34m)\u001b[0m\u001b[0;34m.\u001b[0m\u001b[0mnumpy\u001b[0m\u001b[0;34m(\u001b[0m\u001b[0;34m)\u001b[0m\u001b[0;34m,\u001b[0m \u001b[0;36m1\u001b[0m\u001b[0;34m)\u001b[0m\u001b[0;34m\u001b[0m\u001b[0;34m\u001b[0m\u001b[0m\n\u001b[0;32m----> 2\u001b[0;31m \u001b[0mplt\u001b[0m\u001b[0;34m.\u001b[0m\u001b[0mplot\u001b[0m\u001b[0;34m(\u001b[0m\u001b[0mfeatures\u001b[0m\u001b[0;34m[\u001b[0m\u001b[0;34m:\u001b[0m\u001b[0;34m,\u001b[0m \u001b[0;36m1\u001b[0m\u001b[0;34m]\u001b[0m\u001b[0;34m.\u001b[0m\u001b[0mdetach\u001b[0m\u001b[0;34m(\u001b[0m\u001b[0;34m)\u001b[0m\u001b[0;34m.\u001b[0m\u001b[0mnumpy\u001b[0m\u001b[0;34m(\u001b[0m\u001b[0;34m)\u001b[0m\u001b[0;34m,\u001b[0m \u001b[0mmodel\u001b[0m\u001b[0;34m.\u001b[0m\u001b[0mpkl\u001b[0m\u001b[0;34m(\u001b[0m\u001b[0mfeatures\u001b[0m\u001b[0;34m)\u001b[0m\u001b[0;34m.\u001b[0m\u001b[0mdetach\u001b[0m\u001b[0;34m.\u001b[0m\u001b[0mnumpy\u001b[0m\u001b[0;34m(\u001b[0m\u001b[0;34m)\u001b[0m\u001b[0;34m)\u001b[0m\u001b[0;34m\u001b[0m\u001b[0;34m\u001b[0m\u001b[0m\n\u001b[0m",
            "\u001b[0;32m/usr/local/lib/python3.7/dist-packages/torch/nn/modules/module.py\u001b[0m in \u001b[0;36m__getattr__\u001b[0;34m(self, name)\u001b[0m\n\u001b[1;32m   1206\u001b[0m                 \u001b[0;32mreturn\u001b[0m \u001b[0mmodules\u001b[0m\u001b[0;34m[\u001b[0m\u001b[0mname\u001b[0m\u001b[0;34m]\u001b[0m\u001b[0;34m\u001b[0m\u001b[0;34m\u001b[0m\u001b[0m\n\u001b[1;32m   1207\u001b[0m         raise AttributeError(\"'{}' object has no attribute '{}'\".format(\n\u001b[0;32m-> 1208\u001b[0;31m             type(self).__name__, name))\n\u001b[0m\u001b[1;32m   1209\u001b[0m \u001b[0;34m\u001b[0m\u001b[0m\n\u001b[1;32m   1210\u001b[0m     \u001b[0;32mdef\u001b[0m \u001b[0m__setattr__\u001b[0m\u001b[0;34m(\u001b[0m\u001b[0mself\u001b[0m\u001b[0;34m,\u001b[0m \u001b[0mname\u001b[0m\u001b[0;34m:\u001b[0m \u001b[0mstr\u001b[0m\u001b[0;34m,\u001b[0m \u001b[0mvalue\u001b[0m\u001b[0;34m:\u001b[0m \u001b[0mUnion\u001b[0m\u001b[0;34m[\u001b[0m\u001b[0mTensor\u001b[0m\u001b[0;34m,\u001b[0m \u001b[0;34m'Module'\u001b[0m\u001b[0;34m]\u001b[0m\u001b[0;34m)\u001b[0m \u001b[0;34m->\u001b[0m \u001b[0;32mNone\u001b[0m\u001b[0;34m:\u001b[0m\u001b[0;34m\u001b[0m\u001b[0;34m\u001b[0m\u001b[0m\n",
            "\u001b[0;31mAttributeError\u001b[0m: 'Sequential' object has no attribute 'pkl'"
          ]
        },
        {
          "output_type": "display_data",
          "data": {
            "text/plain": [
              "<Figure size 432x288 with 1 Axes>"
            ],
            "image/png": "[encoded data removed]"
          },
          "metadata": {
            "needs_background": "light"
          }
        }
      ]
    },
    {
      "cell_type": "code",
      "source": [],
      "metadata": {
        "id": "JBk59b_YJVBH"
      },
      "execution_count": null,
      "outputs": []
    }
  ]
}