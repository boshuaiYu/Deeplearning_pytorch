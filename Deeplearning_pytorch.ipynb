{
  "nbformat": 4,
  "nbformat_minor": 0,
  "metadata": {
    "colab": {
      "provenance": [],
      "authorship_tag": "ABX9TyM6ju/c7/C490BjvX6DKuN3",
      "include_colab_link": true
    },
    "kernelspec": {
      "name": "python3",
      "display_name": "Python 3"
    },
    "language_info": {
      "name": "python"
    }
  },
  "cells": [
    {
      "cell_type": "markdown",
      "metadata": {
        "id": "view-in-github",
        "colab_type": "text"
      },
      "source": [
        "<a href=\"https://colab.research.google.com/github/boshuaiYu/Deeplearning_pytorch/blob/main/Deeplearning_pytorch.ipynb\" target=\"_parent\"><img src=\"https://colab.research.google.com/assets/colab-badge.svg\" alt=\"Open In Colab\"/></a>"
      ]
    },
    {
      "cell_type": "markdown",
      "source": [
        "第二章 数据处理"
      ],
      "metadata": {
        "id": "h6fpF0AkRWfv"
      }
    },
    {
      "cell_type": "code",
      "execution_count": 1,
      "metadata": {
        "colab": {
          "base_uri": "https://localhost:8080/"
        },
        "id": "TmNy-4jZQ68d",
        "outputId": "cb6939bd-786e-4637-d446-04a16ce91890"
      },
      "outputs": [
        {
          "output_type": "stream",
          "name": "stdout",
          "text": [
            "1.12.1+cu113\n"
          ]
        }
      ],
      "source": [
        "import torch\n",
        "print(torch.__version__)"
      ]
    },
    {
      "cell_type": "code",
      "source": [
        "x = torch.arange(12)\n",
        "x, x.shape, x.size(), x.numel()"
      ],
      "metadata": {
        "colab": {
          "base_uri": "https://localhost:8080/"
        },
        "id": "rhP1Ikm7RGox",
        "outputId": "57fe56bf-2c56-42b4-d054-ab42e7cbc23b"
      },
      "execution_count": 8,
      "outputs": [
        {
          "output_type": "execute_result",
          "data": {
            "text/plain": [
              "(tensor([ 0,  1,  2,  3,  4,  5,  6,  7,  8,  9, 10, 11]),\n",
              " torch.Size([12]),\n",
              " torch.Size([12]),\n",
              " 12)"
            ]
          },
          "metadata": {},
          "execution_count": 8
        }
      ]
    },
    {
      "cell_type": "markdown",
      "source": [
        "1. 在numpy中， shape得到了数组的形状，size统计了数组总共的大小，而size也可以在某个轴上进行统计，这样也就达到了得到数组某个轴上形状的目的。\n",
        "2. 在torch模块，tensor.size()和tensor.shape都会返回Tensor的形状大小，注意size带()\n",
        "3. torch中，得到张量元素总数的方法是x.numel()\n"
      ],
      "metadata": {
        "id": "F7DU8DWeTqWG"
      }
    },
    {
      "cell_type": "code",
      "source": [
        "X = x.reshape(3,4) # reshape只改变张量的形状，并不改变其元素值\n",
        "X = x.reshape(-1,4)\n",
        "X = x.reshape(3,-1)\n",
        "# 以上三种都是一样的"
      ],
      "metadata": {
        "id": "bMB3CVI9SQKY"
      },
      "execution_count": 10,
      "outputs": []
    },
    {
      "cell_type": "code",
      "source": [
        "# 创建全0，全1，随机分布的初始化张量\n",
        "torch.zeros((2,3,4)) , torch.ones((2,3,4)), torch.randn(2,3,4)"
      ],
      "metadata": {
        "colab": {
          "base_uri": "https://localhost:8080/"
        },
        "id": "UV1D7MHiUr8f",
        "outputId": "eec38dda-0dc1-40c9-9f64-33096b030857"
      },
      "execution_count": 14,
      "outputs": [
        {
          "output_type": "execute_result",
          "data": {
            "text/plain": [
              "(tensor([[[0., 0., 0., 0.],\n",
              "          [0., 0., 0., 0.],\n",
              "          [0., 0., 0., 0.]],\n",
              " \n",
              "         [[0., 0., 0., 0.],\n",
              "          [0., 0., 0., 0.],\n",
              "          [0., 0., 0., 0.]]]), tensor([[[1., 1., 1., 1.],\n",
              "          [1., 1., 1., 1.],\n",
              "          [1., 1., 1., 1.]],\n",
              " \n",
              "         [[1., 1., 1., 1.],\n",
              "          [1., 1., 1., 1.],\n",
              "          [1., 1., 1., 1.]]]), tensor([[[-0.0967,  1.2059, -1.3103,  1.3358],\n",
              "          [-0.5490, -1.0875, -0.5596, -0.3418],\n",
              "          [-0.6110, -1.1053,  0.5342,  0.1262]],\n",
              " \n",
              "         [[ 0.4062,  0.1698, -1.2688,  0.0349],\n",
              "          [-1.0562, -1.2842,  0.6903,  1.0508],\n",
              "          [ 0.9717,  0.0163,  0.2937, -2.6779]]]))"
            ]
          },
          "metadata": {},
          "execution_count": 14
        }
      ]
    },
    {
      "cell_type": "markdown",
      "source": [
        "可以通过提供包含数值的Python列表（或嵌套列表），来为所需张量中的每个元素赋予确定值。 在这里，最外层的列表对应于轴0，内层的列表对应于轴1"
      ],
      "metadata": {
        "id": "pRdrOgGWWRt1"
      }
    },
    {
      "cell_type": "code",
      "source": [
        "A = torch.tensor([[2, 1, 4, 3], [1, 2, 3, 4], [4, 3, 2, 1]])\n",
        "A.shape, A.size(0), A.size(1)"
      ],
      "metadata": {
        "colab": {
          "base_uri": "https://localhost:8080/"
        },
        "id": "iPr3dpVAVo13",
        "outputId": "f85eb543-f6bb-4a55-ea49-a780eac4a743"
      },
      "execution_count": 22,
      "outputs": [
        {
          "output_type": "execute_result",
          "data": {
            "text/plain": [
              "(torch.Size([3, 4]), 3, 4)"
            ]
          },
          "metadata": {},
          "execution_count": 22
        }
      ]
    },
    {
      "cell_type": "code",
      "source": [
        "A = torch.tensor([[[2, 1, 4, 3], [1, 2, 3, 4], [4, 3, 2, 1]]])\n",
        "A.shape, A.size(0), A.size(1), A.size(2)"
      ],
      "metadata": {
        "colab": {
          "base_uri": "https://localhost:8080/"
        },
        "id": "0Hv63cI9WacH",
        "outputId": "418b5005-190b-41a9-fcc2-456bae3cf3a0"
      },
      "execution_count": 23,
      "outputs": [
        {
          "output_type": "execute_result",
          "data": {
            "text/plain": [
              "(torch.Size([1, 3, 4]), 1, 3, 4)"
            ]
          },
          "metadata": {},
          "execution_count": 23
        }
      ]
    },
    {
      "cell_type": "code",
      "source": [],
      "metadata": {
        "id": "DjcH_MTLW48m"
      },
      "execution_count": null,
      "outputs": []
    }
  ]
}